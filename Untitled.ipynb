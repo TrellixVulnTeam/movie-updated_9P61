{
 "cells": [
  {
   "cell_type": "code",
   "execution_count": 3,
   "metadata": {},
   "outputs": [
    {
     "name": "stdout",
     "output_type": "stream",
     "text": [
      "Your csv file has loaded to in-memory SQLite database, and the first three records\n",
      "[(0, 'Color', 'James Cameron', 723.0, 178.0, 0.0, 855.0, 'Joel David Moore', 1000.0, 760505847.0, 'Action|Adventure|Fantasy|Sci-Fi', 'CCH Pounder', 'AvatarÂ\\xa0', 886204, 4834, 'Wes Studi', 0.0, 'avatar|future|marine|native|paraplegic', 'http://www.imdb.com/title/tt0499549/?ref_=fn_tt_tt_1', 3054.0, 'English', 'USA', 'PG-13', 237000000.0, 2009.0, 936.0, 7.9, 1.78, 33000), (1, 'Color', 'Gore Verbinski', 302.0, 169.0, 563.0, 1000.0, 'Orlando Bloom', 40000.0, 309404152.0, 'Action|Adventure|Fantasy', 'Johnny Depp', \"Pirates of the Caribbean: At World's EndÂ\\xa0\", 471220, 48350, 'Jack Davenport', 0.0, 'goddess|marriage ceremony|marriage proposal|pirate|singapore', 'http://www.imdb.com/title/tt0449088/?ref_=fn_tt_tt_1', 1238.0, 'English', 'USA', 'PG-13', 300000000.0, 2007.0, 5000.0, 7.1, 2.35, 0), (2, 'Color', 'Sam Mendes', 602.0, 148.0, 0.0, 161.0, 'Rory Kinnear', 11000.0, 200074175.0, 'Action|Adventure|Thriller', 'Christoph Waltz', 'SpectreÂ\\xa0', 275868, 11700, 'Stephanie Sigman', 1.0, 'bomb|espionage|sequel|spy|terrorist', 'http://www.imdb.com/title/tt2379713/?ref_=fn_tt_tt_1', 994.0, 'English', 'UK', 'PG-13', 245000000.0, 2015.0, 393.0, 6.8, 2.35, 85000)]\n"
     ]
    }
   ],
   "source": [
    "import pandas as pd\n",
    "from sqlalchemy import create_engine\n",
    "from pandas import DataFrame\n",
    "\n",
    "# read in csv file from pandas library\n",
    "input = pd.read_csv(\"./data/movie_metadata.csv\")\n",
    "# initiate sqlit in-memory database\n",
    "engine = create_engine('sqlite://', echo=False)\n",
    "# load file to local database\n",
    "db = input.to_sql('movie', con=engine)\n",
    "# query the database\n",
    "db_tables = engine.execute(\"SELECT * FROM movie\").fetchall()\n",
    "print(\"Your csv file has loaded to in-memory SQLite database, and the first three records\")\n",
    "# show first 3 records\n",
    "print(db_tables[:3])"
   ]
  },
  {
   "cell_type": "code",
   "execution_count": 9,
   "metadata": {
    "collapsed": true
   },
   "outputs": [],
   "source": [
    "#the top 10 directors in decreasing order by their profitability\n",
    "# input pandas dataframe from csv file\n",
    "# output pandas dataframe containing top 10 directors in decreasing order by their profitability using sql query\n",
    "def top_10_directors_actors(data):\n",
    "    # Profit = gross - budget\n",
    "    data = engine.execute(\n",
    "        \"SELECT actor_1_name as name, gross-budget FROM movie UNION ALL SELECT director_name as name, gross-budget FROM movie UNION ALL SELECT actor_2_name as name, gross-budget FROM movie UNION ALL SELECT actor_3_name as name, gross-budget FROM movie\").fetchall()\n",
    "    df = DataFrame.from_records(data)\n",
    "    df.columns = ['name', 'profit']\n",
    "    print(\"Top 10 directors/actors by profit\")\n",
    "    top10_res = df.groupby(['name']).sum().sort_values(by='profit', ascending=False).head(10)\n",
    "    print(top10_res)\n",
    "    res = top10_res.to_csv(\"./result/top_10_directors_actors.csv\", encoding='utf-8')\n",
    "    return res"
   ]
  },
  {
   "cell_type": "code",
   "execution_count": 10,
   "metadata": {},
   "outputs": [
    {
     "name": "stdout",
     "output_type": "stream",
     "text": [
      "Top 10 directors/actors by profit\n",
      "                          profit\n",
      "name                            \n",
      "Steven Spielberg    2.486332e+09\n",
      "Harrison Ford       2.039816e+09\n",
      "Scarlett Johansson  1.764843e+09\n",
      "Robert Downey Jr.   1.755541e+09\n",
      "Tom Hanks           1.734023e+09\n",
      "Jon Favreau         1.663083e+09\n",
      "Morgan Freeman      1.434559e+09\n",
      "George Lucas        1.386641e+09\n",
      "Bradley Cooper      1.230993e+09\n",
      "James Cameron       1.199626e+09\n"
     ]
    }
   ],
   "source": [
    "top_10_directors_actors(input)"
   ]
  },
  {
   "cell_type": "code",
   "execution_count": 12,
   "metadata": {},
   "outputs": [
    {
     "name": "stderr",
     "output_type": "stream",
     "text": [
      "/Users/brucexhuang/anaconda/envs/ana41py35/lib/python3.5/site-packages/ipykernel/__main__.py:8: SettingWithCopyWarning: \n",
      "A value is trying to be set on a copy of a slice from a DataFrame.\n",
      "Try using .loc[row_indexer,col_indexer] = value instead\n",
      "\n",
      "See the caveats in the documentation: http://pandas.pydata.org/pandas-docs/stable/indexing.html#indexing-view-versus-copy\n",
      "/Users/brucexhuang/anaconda/envs/ana41py35/lib/python3.5/site-packages/pandas/core/frame.py:2834: SettingWithCopyWarning: \n",
      "A value is trying to be set on a copy of a slice from a DataFrame\n",
      "\n",
      "See the caveats in the documentation: http://pandas.pydata.org/pandas-docs/stable/indexing.html#indexing-view-versus-copy\n",
      "  **kwargs)\n",
      "/Users/brucexhuang/anaconda/envs/ana41py35/lib/python3.5/site-packages/ipykernel/__main__.py:15: SettingWithCopyWarning: \n",
      "A value is trying to be set on a copy of a slice from a DataFrame.\n",
      "Try using .loc[row_indexer,col_indexer] = value instead\n",
      "\n",
      "See the caveats in the documentation: http://pandas.pydata.org/pandas-docs/stable/indexing.html#indexing-view-versus-copy\n",
      "/Users/brucexhuang/anaconda/envs/ana41py35/lib/python3.5/site-packages/ipykernel/__main__.py:22: SettingWithCopyWarning: \n",
      "A value is trying to be set on a copy of a slice from a DataFrame.\n",
      "Try using .loc[row_indexer,col_indexer] = value instead\n",
      "\n",
      "See the caveats in the documentation: http://pandas.pydata.org/pandas-docs/stable/indexing.html#indexing-view-versus-copy\n",
      "/Users/brucexhuang/anaconda/envs/ana41py35/lib/python3.5/site-packages/ipykernel/__main__.py:29: SettingWithCopyWarning: \n",
      "A value is trying to be set on a copy of a slice from a DataFrame.\n",
      "Try using .loc[row_indexer,col_indexer] = value instead\n",
      "\n",
      "See the caveats in the documentation: http://pandas.pydata.org/pandas-docs/stable/indexing.html#indexing-view-versus-copy\n"
     ]
    },
    {
     "name": "stdout",
     "output_type": "stream",
     "text": [
      "                          profit\n",
      "name                            \n",
      "Steven Spielberg    2.486332e+09\n",
      "Harrison Ford       2.039816e+09\n",
      "Scarlett Johansson  1.764843e+09\n",
      "Robert Downey Jr.   1.755541e+09\n",
      "Tom Hanks           1.734023e+09\n",
      "Jon Favreau         1.663083e+09\n",
      "Morgan Freeman      1.434559e+09\n",
      "George Lucas        1.386641e+09\n",
      "Bradley Cooper      1.230993e+09\n",
      "James Cameron       1.199626e+09\n"
     ]
    }
   ],
   "source": [
    "    # use pandas to select column and do the data manipulation rather than sql\n",
    "    # select actor1, actor2, director with profit seperately with pandas and then concatenate them to\n",
    "    # do the filering and sorting\n",
    "\n",
    "    df = pd.read_csv(\"./data/movie_metadata.csv\")\n",
    "\n",
    "    df_actor2_profit = df[['actor_2_name']]\n",
    "    df_actor2_profit['profit'] = (df['gross'] - df['budget']).tolist()\n",
    "    df_actor2_profit.rename(columns={'actor_2_name': 'name'}, inplace=True)\n",
    "    # df_actor2_profit.isnull().sum()\n",
    "    df_a2 = df_actor2_profit.dropna()\n",
    "    # df_a2.isnull().sum()\n",
    "\n",
    "    df_actor3_profit = df[['actor_3_name']]\n",
    "    df_actor3_profit['profit'] = (df['gross'] - df['budget']).tolist()\n",
    "    df_actor3_profit.rename(columns={'actor_3_name': 'name'}, inplace=True)\n",
    "    # df_actor3_profit.isnull().sum()\n",
    "    df_a3 = df_actor3_profit.dropna()\n",
    "    # df_a3.isnull().sum()\n",
    "\n",
    "    df_actor1_profit = df[['actor_1_name']]\n",
    "    df_actor1_profit['profit'] = (df['gross'] - df['budget']).tolist()\n",
    "    df_actor1_profit.rename(columns={'actor_1_name': 'name'}, inplace=True)\n",
    "    # df_actor1_profit.isnull().sum()\n",
    "    df_a1 = df_actor1_profit.dropna()\n",
    "    # df_a2.isnull().sum()\n",
    "\n",
    "    df_director_profit = df[['director_name']]\n",
    "    df_director_profit['profit'] = (df['gross'] - df['budget']).tolist()\n",
    "    df_director_profit.rename(columns={'director_name': 'name'}, inplace=True)\n",
    "    # df_director_profit.isnull().sum()\n",
    "    df_director = df_director_profit.dropna()\n",
    "    # df_director.isnull().sum()\n",
    "\n",
    "    df_actors_director_profit = pd.concat([df_a1, df_a2, df_director,df_a3])\n",
    "    # df_actors_director_profit\n",
    "    test_res = df_actors_director_profit.groupby(['name']).sum().sort_values(by='profit', ascending=False).head(10)\n",
    "    print(test_res)\n",
    "    testcsv = test_res.to_csv(\"./top_10_directors_actors_test.csv\", encoding='utf-8')"
   ]
  },
  {
   "cell_type": "code",
   "execution_count": 13,
   "metadata": {},
   "outputs": [
    {
     "name": "stdout",
     "output_type": "stream",
     "text": [
      "Top 10 directors/actors by profit\n",
      "                          profit\n",
      "name                            \n",
      "Steven Spielberg    2.486332e+09\n",
      "Harrison Ford       2.039816e+09\n",
      "Scarlett Johansson  1.764843e+09\n",
      "Robert Downey Jr.   1.755541e+09\n",
      "Tom Hanks           1.734023e+09\n",
      "Jon Favreau         1.663083e+09\n",
      "Morgan Freeman      1.434559e+09\n",
      "George Lucas        1.386641e+09\n",
      "Bradley Cooper      1.230993e+09\n",
      "James Cameron       1.199626e+09\n"
     ]
    },
    {
     "data": {
      "text/plain": [
       "True"
      ]
     },
     "execution_count": 13,
     "metadata": {},
     "output_type": "execute_result"
    }
   ],
   "source": [
    "top_10_directors_actors(input) == testcsv"
   ]
  },
  {
   "cell_type": "code",
   "execution_count": null,
   "metadata": {
    "collapsed": true
   },
   "outputs": [],
   "source": []
  }
 ],
 "metadata": {
  "anaconda-cloud": {},
  "kernelspec": {
   "display_name": "Python [ana41py35]",
   "language": "python",
   "name": "Python [ana41py35]"
  },
  "language_info": {
   "codemirror_mode": {
    "name": "ipython",
    "version": 3
   },
   "file_extension": ".py",
   "mimetype": "text/x-python",
   "name": "python",
   "nbconvert_exporter": "python",
   "pygments_lexer": "ipython3",
   "version": "3.5.2"
  }
 },
 "nbformat": 4,
 "nbformat_minor": 1
}
